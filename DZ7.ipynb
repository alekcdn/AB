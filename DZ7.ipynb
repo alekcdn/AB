{
 "cells": [
  {
   "cell_type": "markdown",
   "id": "8eeb6460",
   "metadata": {},
   "source": [
    "## Домашнее задание к семинару 7.\n",
    "Составьте план эксперимента для 2-х любых А/В-тестов (можно выбрать продукты из первых вебинаров). Важно избежать Peeking Problem, гипотезы прописывать по структуре. \n",
    "Распишите, какие метрики и как вы будете анализировать. Используйте шаблон эксперимента из лекции и ссылку \"Помощь в ДЗ\"."
   ]
  },
  {
   "cell_type": "code",
   "execution_count": 4,
   "id": "d3034ad7",
   "metadata": {},
   "outputs": [],
   "source": [
    "from statsmodels.stats.power import tt_ind_solve_power, zt_ind_solve_power\n",
    "from statsmodels.stats.proportion import proportion_effectsize\n",
    "from statsmodels.stats.meta_analysis import effectsize_smd\n",
    "from typing import Union\n",
    "import plotly.graph_objects as go\n",
    "from scipy import stats\n",
    "from math import asin\n",
    "import numpy as np"
   ]
  },
  {
   "cell_type": "markdown",
   "id": "098829f2",
   "metadata": {},
   "source": [
    "### Дизайн эксперимента : \n",
    "1. **Гипотеза**:\tПеремещение на верх сайта ozon.ru блока с информацией о скидках повысит конверсию на 30%, потому что пользователь сможет быстрее найти все сезонные товары на сайте.   \n",
    "   \n",
    "   \n",
    "2. **Что делаем**:\n",
    "    - Контрольная группа: Оставляем всё без изменений.\n",
    "    - Тестовая группа: Перемещаем блок информаци о скидках на верх первого экрана.    \n",
    "       \n",
    "       \n",
    "3. **На каких пользователях тестируем**:\tНа всех пользователях сайта на **15%** трафика. Рандомно делим пользователей на две группы, контрольную и тестовую, для оценки влияния программы на увеличение оборота.   \n",
    " \n",
    " \n",
    "4. **Ключевые метрики для оценки эксперимента**:\n",
    "    - CR - primary; \n",
    "    - Revenue - secondary. \n",
    "    \n",
    "**Длительность эксперимента 2 дня** (расчёт ниже)\n",
    "       \n",
    "       \n",
    "5. **Ожидаемый эффект**:\tувеличение количества покупок (конверсий) на 30%.  \n",
    " \n",
    " \n",
    "6. **План действий в зависимости от результатов эксперимента**:\t\n",
    "    - При положительном результате эксперимента (в тестовой группе конверсии увеличиваются на 30%) расширяем действие программы на всех пользователей сайта;\n",
    "    - Если результат не окажет статистически значимого эффекта на увеличение конверсий, останавливаем эксперимент."
   ]
  },
  {
   "cell_type": "markdown",
   "id": "37c5bbc3",
   "metadata": {},
   "source": [
    "Рассчитаем время проведения эксперимента:"
   ]
  },
  {
   "cell_type": "markdown",
   "id": "6e8da86e",
   "metadata": {},
   "source": [
    "Исторические данные: \n",
    "1. Средний трафик 5000 человек в день. \n",
    "2. Конверсия 4%.\n",
    "4. Ожидаемый эффект 30%\n",
    "5. alpha = 5% и beta = 20%"
   ]
  },
  {
   "cell_type": "code",
   "execution_count": 16,
   "id": "54c8f924",
   "metadata": {},
   "outputs": [
    {
     "data": {
      "text/plain": [
       "0.052000000000000005"
      ]
     },
     "execution_count": 16,
     "metadata": {},
     "output_type": "execute_result"
    }
   ],
   "source": [
    "# исходные данные\n",
    "DAU = 5000 \n",
    "conv_1 = 0.04\n",
    "delta = 0.3\n",
    "conv_2 = conv_1 + conv_1 * delta\n",
    "conv_2"
   ]
  },
  {
   "cell_type": "markdown",
   "id": "72941948",
   "metadata": {},
   "source": [
    "По имеющимся данным рассчитаем размер выборки для оценки изменений:\n",
    "1. Найдем effect_size для дискретной метрики:"
   ]
  },
  {
   "cell_type": "code",
   "execution_count": 11,
   "id": "043a1dda",
   "metadata": {},
   "outputs": [],
   "source": [
    "def calc_proportion_es(prob1: float, prob2: float):\n",
    "    \n",
    "    return abs(proportion_effectsize(prob1, prob2))"
   ]
  },
  {
   "cell_type": "code",
   "execution_count": 12,
   "id": "530bd0ae",
   "metadata": {},
   "outputs": [
    {
     "data": {
      "text/plain": [
       "0.05740239580200046"
      ]
     },
     "execution_count": 12,
     "metadata": {},
     "output_type": "execute_result"
    }
   ],
   "source": [
    "es_prop = calc_proportion_es(conv_1, conv_2)\n",
    "es_prop"
   ]
  },
  {
   "cell_type": "markdown",
   "id": "ea5ca71b",
   "metadata": {},
   "source": [
    "2. Рассчитаем минимально необходимую выборку для полученного effectsize "
   ]
  },
  {
   "cell_type": "code",
   "execution_count": 13,
   "id": "a23976d1",
   "metadata": {},
   "outputs": [],
   "source": [
    "def calc_sample_size_proportion(effect_size: float, \n",
    "                              alpha: float = 0.05,\n",
    "                              beta: float = 0.2,\n",
    "                              ratio: Union[float, int] = 1):\n",
    "    \n",
    "    n = zt_ind_solve_power(effect_size=effect_size, \n",
    "                              alpha=alpha,\n",
    "                              power=1-beta,\n",
    "                              ratio=ratio,\n",
    "                          )\n",
    "    return int(n * 2)"
   ]
  },
  {
   "cell_type": "code",
   "execution_count": 14,
   "id": "eeb5d3c1",
   "metadata": {},
   "outputs": [
    {
     "name": "stdout",
     "output_type": "stream",
     "text": [
      "Минимальное количество пользователей сайта, необходимое для проверки результатов эксперимента:9528\n"
     ]
    }
   ],
   "source": [
    "print(f'Минимальное количество пользователей сайта, необходимое для проверки результатов эксперимента:{calc_sample_size_proportion(es_prop)}')"
   ]
  },
  {
   "cell_type": "markdown",
   "id": "5994270a",
   "metadata": {},
   "source": [
    "3. Рассчитаем длительность эксперимента в днях.    \n",
    "\n",
    "Для этого полученное значение минимально необходимой выборки разделим на количество пользователей, посещающих сайт в день:"
   ]
  },
  {
   "cell_type": "code",
   "execution_count": 15,
   "id": "72c84766",
   "metadata": {},
   "outputs": [
    {
     "name": "stdout",
     "output_type": "stream",
     "text": [
      "Количество дней эксперимента: 1.9056\n"
     ]
    }
   ],
   "source": [
    "print(f'Количество дней эксперимента: {calc_sample_size_proportion(es_prop) / DAU}')"
   ]
  },
  {
   "cell_type": "code",
   "execution_count": null,
   "id": "42184a48",
   "metadata": {},
   "outputs": [],
   "source": []
  }
 ],
 "metadata": {
  "kernelspec": {
   "display_name": "Python 3 (ipykernel)",
   "language": "python",
   "name": "python3"
  },
  "language_info": {
   "codemirror_mode": {
    "name": "ipython",
    "version": 3
   },
   "file_extension": ".py",
   "mimetype": "text/x-python",
   "name": "python",
   "nbconvert_exporter": "python",
   "pygments_lexer": "ipython3",
   "version": "3.9.13"
  }
 },
 "nbformat": 4,
 "nbformat_minor": 5
}
